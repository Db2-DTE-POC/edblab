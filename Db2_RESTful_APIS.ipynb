{
 "cells": [
  {
   "cell_type": "markdown",
   "metadata": {
    "extensions": {
     "jupyter_dashboards": {
      "version": 1,
      "views": {
       "grid_default": {
        "col": 0,
        "height": 4,
        "hidden": true,
        "row": 0,
        "width": 4
       },
       "report_default": {
        "hidden": false
       }
      }
     }
    }
   },
   "source": [
    "<a id=\"top\"></a>"
   ]
  },
  {
   "cell_type": "markdown",
   "metadata": {
    "extensions": {
     "jupyter_dashboards": {
      "version": 1,
      "views": {
       "grid_default": {
        "col": 0,
        "height": 8,
        "hidden": true,
        "row": 4,
        "width": 12
       },
       "report_default": {
        "hidden": true
       }
      }
     }
    }
   },
   "source": [
    "# Db2 Data Management Console RESTful APIs for SQL\n",
    "This tutorial will explain some of the features that are available for Db2 when using the Db2 Data Management Console. The Db2 Data Management Console includes a number of RESTful services including those which allow for SQL execution. The services that are available through RESTful calls are outlined in the IBM Cloud API Documentation.\n",
    "\n",
    "[RESTful APIs](http://localhost:11080/dbapi/api/index_enterprise.html) \n",
    "    \n",
    "There are a number of APIs available to use against Db2, but only three are of interest to us in this lab:\n",
    "* Request an Access Token\n",
    "* Execute an SQL statement\n",
    "* Fetch the result set\n",
    "\n",
    "The sections below will take you through the tasks required to use these APIs in a Python development environment."
   ]
  },
  {
   "cell_type": "markdown",
   "metadata": {
    "extensions": {
     "jupyter_dashboards": {
      "version": 1,
      "views": {
       "grid_default": {
        "col": 0,
        "height": 7,
        "hidden": true,
        "row": 0,
        "width": 12
       },
       "report_default": {
        "hidden": true
       }
      }
     }
    }
   },
   "source": [
    "## Connecting to Db2 with RESTful APIs\n",
    "Connecting through RESTful APIs requires a different approach than a Db2 client. Rather than supply a userid and password, these APIs need an access token which is used for authentication. The access token is generated at the beginning of your session with Db2 and supplied with every RESTful call made to the database.\n",
    "\n",
    "The second item that is required is the service url. This URL points to the server that will accept the RESTful request and then communicate with Db2 to return the results. Note that using Db2 on Cloud RESTful services is completely different from an OData gateway. OData RESTful gateways uses a specific syntax to communicate with the backend data source. In the case of these Db2 on Cloud APIs, the full SQL syntax is available for use."
   ]
  },
  {
   "cell_type": "markdown",
   "metadata": {
    "extensions": {
     "jupyter_dashboards": {
      "version": 1,
      "views": {
       "grid_default": {
        "col": 0,
        "height": 12,
        "hidden": true,
        "row": 0,
        "width": 12
       },
       "report_default": {
        "hidden": true
       }
      }
     }
    }
   },
   "source": [
    "The following information is required to use the RESTful APIs:\n",
    "* **`Hostname`** - This is hostname or the IP address. \n",
    "* **`Port Number`** - 50000 is the Db2 port number.\n",
    "* **`Userid`** - This is the userid that will be used to connect to the database to issue the SQL commands.\n",
    "* **`Password`** - The password for the Db2 User.\n",
    "* **`API`** - The service API.\n",
    "* **`Service`** - The name of the service we want to use.\n",
    "\n",
    "The **`API`** that is being used in this lab is `/dbapi/v4`. This service name can be different depending on what version of Db2 Data Management Console you are using. The **`Service`** depends on the request that we asking the API to provide. In this lab we are using two API calls:\n",
    "\n",
    "* **`/auth/tokens`** - Provide a secure token to communicate with Db2 on Cloud\n",
    "* **`/sql_jobs`** - Submit an SQL request to Db2\n",
    "* **`/sql_jobs/#`** - Request results of the previous job that was submitted"
   ]
  },
  {
   "cell_type": "markdown",
   "metadata": {
    "extensions": {
     "jupyter_dashboards": {
      "version": 1,
      "views": {
       "grid_default": {
        "col": 0,
        "height": 4,
        "hidden": true,
        "row": 24,
        "width": 12
       },
       "report_default": {}
      }
     }
    }
   },
   "source": [
    "### Load Db2 Connection Information\n",
    "The first step is to load the Db2 connection information into this notebook. We don't need any of the Db2 `%sql` commands to run the RESTful calls. Instead, we are using the following information to connect to the RESTful service."
   ]
  },
  {
   "cell_type": "code",
   "execution_count": null,
   "metadata": {
    "extensions": {
     "jupyter_dashboards": {
      "version": 1,
      "views": {
       "grid_default": {
        "col": 8,
        "height": 17,
        "hidden": true,
        "row": 0,
        "width": 4
       },
       "report_default": {}
      }
     }
    }
   },
   "outputs": [],
   "source": [
    "db2id = {\n",
    " 'db': 'SAMPLE',\n",
    " 'hostname': 'localhost',\n",
    " 'https_url': 'http://localhost:11080',\n",
    " 'password': 'db2inst1',\n",
    " 'port': 50000,\n",
    " 'username': 'DB2INST1',\n",
    " 'access_token' : ''\n",
    "}"
   ]
  },
  {
   "cell_type": "markdown",
   "metadata": {
    "extensions": {
     "jupyter_dashboards": {
      "version": 1,
      "views": {
       "grid_default": {
        "col": 4,
        "height": 4,
        "hidden": true,
        "row": 0,
        "width": 4
       },
       "report_default": {
        "hidden": true
       }
      }
     }
    }
   },
   "source": [
    "After getting the connection information for the database, there are three pieces of information required to set up the access token:\n",
    "* **`https_url`** - The url of the server that is running Db2 on Cloud\n",
    "* **`username`** - The userid that you used to connect to the Db2 database\n",
    "* **`password`** - The password associate with your userid\n",
    "\n",
    "Once an access token has been established, the userid/password is no longer required."
   ]
  },
  {
   "cell_type": "markdown",
   "metadata": {},
   "source": [
    "### Load Sample Data\n",
    "In order to run some of these examples, we are going to connect to the Db2 locally and generate the `EMPLOYEE` and `DEPARTMENT` tables."
   ]
  },
  {
   "cell_type": "code",
   "execution_count": null,
   "metadata": {},
   "outputs": [],
   "source": [
    "%run db2.ipynb\n",
    "%sql CONNECT CREDENTIALS db2id\n",
    "%sql -sampledata"
   ]
  },
  {
   "cell_type": "markdown",
   "metadata": {},
   "source": [
    "Next we generate 500 rows of customer data (in JSON format) that we will use to populate some tables."
   ]
  },
  {
   "cell_type": "code",
   "execution_count": null,
   "metadata": {},
   "outputs": [],
   "source": [
    "%run generate_customer_data.ipynb"
   ]
  },
  {
   "cell_type": "markdown",
   "metadata": {},
   "source": [
    "The next step is to create our base table that will hold all of the JSON data."
   ]
  },
  {
   "cell_type": "code",
   "execution_count": null,
   "metadata": {},
   "outputs": [],
   "source": [
    "%%sql -q\n",
    "  DROP TABLE CUSTOMERS;\n",
    "  CREATE TABLE CUSTOMERS \n",
    "    (\n",
    "    CUSTNO  INT NOT NULL,\n",
    "    DETAILS VARCHAR(2048)\n",
    "    );"
   ]
  },
  {
   "cell_type": "markdown",
   "metadata": {},
   "source": [
    "The next piece of code will import the data into Db2. The Python code will read the `customer.js` file, parse it and then insert in into the `CUSTOMERS` table. Note that the entire JSON record is stored into the `DETAILS` column, while the `CUSTNO` column is set to the `customerid` field that is found in the JSON record. This load step will take a few minutes to complete because of the network time."
   ]
  },
  {
   "cell_type": "code",
   "execution_count": null,
   "metadata": {},
   "outputs": [],
   "source": [
    "import io\n",
    "import json\n",
    "print(\"Starting Load\")\n",
    "%sql autocommit off\n",
    "x = %sql prepare INSERT INTO CUSTOMERS VALUES (?,?)\n",
    "if (x != False):\n",
    "    i = 0\n",
    "    with open(\"customers.js\",\"r\") as records:\n",
    "        for record in records:\n",
    "            rec = json.loads(record)\n",
    "            custno = rec['customerid']\n",
    "            i += 1\n",
    "            rc = %sql execute :x using custno@int, record@char\n",
    "            if (rc == False): break\n",
    "            if ((i % 10) == 0): \n",
    "                print(\".\",end='')\n",
    "                %sql commit hold\n",
    "                \n",
    "    %sql commit work  \n",
    "%sql autocommit on\n",
    "print('')\n",
    "print('Loaded completed')"
   ]
  },
  {
   "cell_type": "markdown",
   "metadata": {},
   "source": [
    "Once the 500 rows are loaded, we can create some traditional Db2 tables from the JSON by using the new Db2 ISO JSON functions."
   ]
  },
  {
   "cell_type": "markdown",
   "metadata": {},
   "source": [
    "## Converting JSON into Relational Tables\n",
    "While we could do all of the following examples using native JSON calls, it makes it easier to visualize the data if we convert it to traditional relational tables. The `TRANSACTIONS` table will contain all of the original JSON data that we want to convert."
   ]
  },
  {
   "cell_type": "code",
   "execution_count": null,
   "metadata": {},
   "outputs": [],
   "source": [
    "%%sql -q\n",
    "DROP TABLE TRANSACTIONS;\n",
    "CREATE TABLE TRANSACTIONS\n",
    "  (\n",
    "  TX_DATE DATE,\n",
    "  CITY VARCHAR(32),\n",
    "  STATE CHAR(2),\n",
    "  ZIPCODE INT,\n",
    "  PRODUCT_NAME VARCHAR(32),\n",
    "  PRODUCT_QTY INT,\n",
    "  PRODUCT_COST DEC(7,2),\n",
    "  CCARD CHAR(4)\n",
    "  );"
   ]
  },
  {
   "cell_type": "markdown",
   "metadata": {},
   "source": [
    "To simplify the unnesting of arrays, we will include the JSON array functions that take the JSON arrays and generate a table of values."
   ]
  },
  {
   "cell_type": "code",
   "execution_count": null,
   "metadata": {},
   "outputs": [],
   "source": [
    "%run JSON_Array_Functions.ipynb"
   ]
  },
  {
   "cell_type": "markdown",
   "metadata": {},
   "source": [
    "Next we generate the rows we need to populate the transactions table."
   ]
  },
  {
   "cell_type": "code",
   "execution_count": null,
   "metadata": {},
   "outputs": [],
   "source": [
    "%%sql\n",
    "INSERT INTO TRANSACTIONS\n",
    "  SELECT \n",
    "      JSON_VALUE(P.VALUE,  '$.tx_date'           RETURNING DATE),\n",
    "      JSON_VALUE(C.DETAILS,'$.contact.city'      RETURNING VARCHAR(32)),\n",
    "      JSON_VALUE(C.DETAILS,'$.contact.state'     RETURNING CHAR(2)), \n",
    "      JSON_VALUE(C.DETAILS,'$.contact.zipcode'   RETURNING CHAR(5)),\n",
    "      JSON_VALUE(P.VALUE,  '$.product'           RETURNING VARCHAR(32)),\n",
    "      JSON_VALUE(P.VALUE,  '$.quantity'          RETURNING INTEGER),\n",
    "      JSON_VALUE(P.VALUE,  '$.item_cost'         RETURNING DEC(7,2)),            \n",
    "      JSON_VALUE(C.DETAILS,'$.payment.card_type' RETURNING CHAR(4))\n",
    "  FROM CUSTOMERS C,\n",
    "       TABLE( JSON_ARRAY_OBJECT(DETAILS,'$.purchases') ) AS P\n",
    "  WHERE JSON_EXISTS(C.DETAILS,'$.purchases') IS TRUE "
   ]
  },
  {
   "cell_type": "code",
   "execution_count": null,
   "metadata": {},
   "outputs": [],
   "source": [
    "%sql select count(*) from transactions"
   ]
  },
  {
   "cell_type": "code",
   "execution_count": null,
   "metadata": {},
   "outputs": [],
   "source": [
    "%sql -grid select * from transactions"
   ]
  },
  {
   "cell_type": "markdown",
   "metadata": {
    "extensions": {
     "jupyter_dashboards": {
      "version": 1,
      "views": {
       "grid_default": {
        "col": 0,
        "height": 35,
        "hidden": true,
        "row": 63,
        "width": 12
       },
       "report_default": {
        "hidden": false
       }
      }
     }
    }
   },
   "source": [
    "### Calling Restful Services\n",
    "\n",
    "There are two types of RESTful calls that are used with Db2 on Cloud:\n",
    "\n",
    "* **`GET`** - Get results from a SQL request\n",
    "* **`POST`** - Request an Access token, or issue an SQL command\n",
    "\n",
    "All RESTful calls require the host IP address and the service URL:\n",
    "* **`host`** - This is the IP address of the machine that is hosting Db2 on Cloud\n",
    "* **`api`** - The API library that is being used to communicate with Db2 on Cloud\n",
    "* **`service`** - The service (API) that is being requested. \n",
    "\n",
    "As mentioned previously, the API library that is used for Db2 on Cloud is `/dbapi/v3`. The full URL has the following format:\n",
    "\n",
    "```\n",
    "https:// + host + api + service\n",
    "```\n",
    "\n",
    "If your host was xyz.abc.com and we are using the `/auth/tokens` service, the full URL would be:\n",
    "\n",
    "```\n",
    "https://xyz.abc.com/dbapi/v3/auth/tokens\n",
    "```\n",
    "\n",
    "This URL is then placed into a RESTful call that has one of the following formats:\n",
    "\n",
    "```\n",
    "RESTful.call( host + api + service, json=data)\n",
    "RESTful.call( host + api + service, headers=tokens, json=data)\n",
    "```\n",
    "\n",
    "The first form of the RESTful call sends parameters via the **`json=data`** keyword. This format of RESTful call is used to generate an access token. The second form of the RESTful call will supply parameters through the **`json=data`** keyword, and also supply the access token via the **`headers=tokens`** keyword. Any SQL request needs this access token to be supplied, otherwise the Db2 on Cloud service will not be able to authenticate the RESTful call."
   ]
  },
  {
   "cell_type": "markdown",
   "metadata": {
    "extensions": {
     "jupyter_dashboards": {
      "version": 1,
      "views": {
       "grid_default": {
        "col": 0,
        "height": 4,
        "hidden": true,
        "row": 24,
        "width": 12
       },
       "report_default": {}
      }
     }
    }
   },
   "source": [
    "### Generating an Access Token\n",
    "The first step in generating an access token is to build the URL for the service. From a programming perspective, the host URL will be combined with the API library to form the stub for all future RESTful URL requests. The HOST IP address is derived from the Db2 connect parameters."
   ]
  },
  {
   "cell_type": "code",
   "execution_count": null,
   "metadata": {
    "extensions": {
     "jupyter_dashboards": {
      "version": 1,
      "views": {
       "grid_default": {
        "col": 8,
        "height": 4,
        "hidden": true,
        "row": 0,
        "width": 4
       },
       "report_default": {}
      }
     }
    }
   },
   "outputs": [],
   "source": [
    "api = '/dbapi/v4'\n",
    "host = db2id['https_url'] + api\n",
    "print( \"Host URL = \" + host)"
   ]
  },
  {
   "cell_type": "markdown",
   "metadata": {
    "extensions": {
     "jupyter_dashboards": {
      "version": 1,
      "views": {
       "grid_default": {
        "col": 0,
        "height": 6,
        "hidden": true,
        "row": 24,
        "width": 12
       },
       "report_default": {}
      }
     }
    }
   },
   "source": [
    "Next we need to build the JSON parameter structure required for the authentication call. This JSON parameter needs to contain the following information:\n",
    "```json\n",
    "{\n",
    "    \"userid\" : \"xyz12345\",\n",
    "    \"password\" :\"randompassword\"\n",
    "}\n",
    "```\n",
    "The next statement will create a Python variable that contains your userid and password from in the Db2 connection."
   ]
  },
  {
   "cell_type": "code",
   "execution_count": null,
   "metadata": {
    "extensions": {
     "jupyter_dashboards": {
      "version": 1,
      "views": {
       "grid_default": {
        "hidden": true
       },
       "report_default": {}
      }
     }
    }
   },
   "outputs": [],
   "source": [
    "userinfo = {\n",
    "    \"userid\" : db2id['username'],\n",
    "    \"password\" : db2id['password']\n",
    "}"
   ]
  },
  {
   "cell_type": "markdown",
   "metadata": {
    "extensions": {
     "jupyter_dashboards": {
      "version": 1,
      "views": {
       "grid_default": {
        "col": 0,
        "height": 4,
        "hidden": true,
        "row": 0,
        "width": 4
       },
       "report_default": {}
      }
     }
    }
   },
   "source": [
    "The final step before we issue the RESTful call is to load the Python RESTful library into the notebook and define what service we are going to use in our RESTful call."
   ]
  },
  {
   "cell_type": "code",
   "execution_count": null,
   "metadata": {
    "extensions": {
     "jupyter_dashboards": {
      "version": 1,
      "views": {
       "grid_default": {
        "hidden": true
       },
       "report_default": {}
      }
     }
    }
   },
   "outputs": [],
   "source": [
    "import requests\n",
    "service = \"/auth/tokens\""
   ]
  },
  {
   "cell_type": "markdown",
   "metadata": {
    "extensions": {
     "jupyter_dashboards": {
      "version": 1,
      "views": {
       "grid_default": {
        "col": 0,
        "height": 6,
        "hidden": true,
        "row": 0,
        "width": 12
       },
       "report_default": {
        "hidden": false
       }
      }
     }
    }
   },
   "source": [
    "The final format of the RESTful call to request an access token looks like this:\n",
    "```\n",
    "RESTful.post(host + service,json=userinfo)\n",
    "```\n",
    "If this call returns successfully, the `post` request will return a structure that looks like this:\n",
    "```json\n",
    "{\n",
    "  \"userid\": \"STRING\",\n",
    "  \"token\": \"STRING\"\n",
    "}\n",
    "```\n",
    "Normally the `requests` call would be assigned to a variable, i.e `x = requests.post()`. A quick test to see if the RESTful call was successful is to compare `x.ok` to `True`. It is also good coding practice to surround the RESTful calls in a `try/except` block to catch any major errors that may occur.\n",
    "\n",
    "Execute the next statement to retrieve an access token."
   ]
  },
  {
   "cell_type": "code",
   "execution_count": null,
   "metadata": {
    "extensions": {
     "jupyter_dashboards": {
      "version": 1,
      "views": {
       "grid_default": {
        "hidden": true
       },
       "report_default": {}
      }
     }
    }
   },
   "outputs": [],
   "source": [
    "r = requests.post(host + service, json=userinfo)"
   ]
  },
  {
   "cell_type": "markdown",
   "metadata": {
    "extensions": {
     "jupyter_dashboards": {
      "version": 1,
      "views": {
       "grid_default": {
        "col": 8,
        "height": 4,
        "hidden": true,
        "row": 4,
        "width": 4
       },
       "report_default": {}
      }
     }
    }
   },
   "source": [
    "We check to see if the results of the call are okay. `OK` means that an HTTP return code of `200` was returned from the service which means that a valid call was made and that it was successful. If the HTTP return code is anything else, you would get a value of `False`."
   ]
  },
  {
   "cell_type": "code",
   "execution_count": null,
   "metadata": {
    "extensions": {
     "jupyter_dashboards": {
      "version": 1,
      "views": {
       "grid_default": {
        "col": 0,
        "height": 4,
        "hidden": true,
        "row": 10,
        "width": 4
       },
       "report_default": {}
      }
     }
    }
   },
   "outputs": [],
   "source": [
    "r.ok"
   ]
  },
  {
   "cell_type": "markdown",
   "metadata": {
    "extensions": {
     "jupyter_dashboards": {
      "version": 1,
      "views": {
       "grid_default": {
        "col": 0,
        "height": 7,
        "hidden": true,
        "row": 29,
        "width": 12
       },
       "report_default": {}
      }
     }
    }
   },
   "source": [
    "The other option is to view the HTTP return code. Some of the possible values are:\n",
    "* 400 - Bad request which means the parameters sent were incorrect or missing\n",
    "* 401 - Unauthorized request\n",
    "* 403 - Forbidden - Probably the wrong service or URL\n",
    "* 404 - Not found - Probably the wrong service or URL\n",
    "\n",
    "The `401` code is returned from the `/auth/tokens` service when an incorrect userid or password are sent to it. The previous call succeeded, so we can check the return code using `r.status_code`. "
   ]
  },
  {
   "cell_type": "code",
   "execution_count": null,
   "metadata": {
    "extensions": {
     "jupyter_dashboards": {
      "version": 1,
      "views": {
       "grid_default": {
        "hidden": true
       },
       "report_default": {}
      }
     }
    }
   },
   "outputs": [],
   "source": [
    "r.status_code"
   ]
  },
  {
   "cell_type": "markdown",
   "metadata": {
    "extensions": {
     "jupyter_dashboards": {
      "version": 1,
      "views": {
       "grid_default": {
        "col": 0,
        "height": 4,
        "hidden": true,
        "row": 10,
        "width": 4
       },
       "report_default": {}
      }
     }
    }
   },
   "source": [
    "Since the status code is `200`, we can examine the results returned by the RESTful call by checking the json structure in the answer set since this will contain the access token."
   ]
  },
  {
   "cell_type": "code",
   "execution_count": null,
   "metadata": {
    "extensions": {
     "jupyter_dashboards": {
      "version": 1,
      "views": {
       "grid_default": {
        "col": 8,
        "height": 5,
        "hidden": true,
        "row": 17,
        "width": 4
       },
       "report_default": {}
      }
     }
    }
   },
   "outputs": [],
   "source": [
    "r.json()"
   ]
  },
  {
   "cell_type": "markdown",
   "metadata": {
    "extensions": {
     "jupyter_dashboards": {
      "version": 1,
      "views": {
       "grid_default": {
        "col": 0,
        "height": 4,
        "hidden": true,
        "row": 24,
        "width": 12
       },
       "report_default": {}
      }
     }
    }
   },
   "source": [
    "Now we can assign the access token to a variable that we will use for all of the remaining calls. "
   ]
  },
  {
   "cell_type": "code",
   "execution_count": null,
   "metadata": {
    "extensions": {
     "jupyter_dashboards": {
      "version": 1,
      "views": {
       "grid_default": {
        "hidden": true
       },
       "report_default": {}
      }
     }
    }
   },
   "outputs": [],
   "source": [
    "access_token = r.json()['token']"
   ]
  },
  {
   "cell_type": "markdown",
   "metadata": {
    "extensions": {
     "jupyter_dashboards": {
      "version": 1,
      "views": {
       "grid_default": {
        "col": 0,
        "height": 4,
        "hidden": true,
        "row": 29,
        "width": 12
       },
       "report_default": {}
      }
     }
    }
   },
   "source": [
    "The access token is valid for about an hour which means that you will need to refresh it if you are starting off in the middle of a notebook after having been away for a while. The next statement will create some invalid credentials and display the RESTful code and the JSON error structure that is returned."
   ]
  },
  {
   "cell_type": "code",
   "execution_count": null,
   "metadata": {
    "extensions": {
     "jupyter_dashboards": {
      "version": 1,
      "views": {
       "grid_default": {
        "hidden": true
       },
       "report_default": {
        "hidden": true
       }
      }
     }
    }
   },
   "outputs": [],
   "source": [
    "userinfo_bad = {\n",
    "    \"userid\" : \"unknown\",\n",
    "    \"password\" : \"password\"\n",
    "}\n",
    "r = requests.post(host + service, json=userinfo_bad)\n",
    "print(r.status_code)\n",
    "print(r.json())"
   ]
  },
  {
   "cell_type": "markdown",
   "metadata": {
    "extensions": {
     "jupyter_dashboards": {
      "version": 1,
      "views": {
       "grid_default": {
        "col": 0,
        "height": 5,
        "hidden": true,
        "row": 29,
        "width": 12
       },
       "report_default": {}
      }
     }
    }
   },
   "source": [
    "### Request Access Token Routine\n",
    "To simplify the process of getting an access token, the following Python routine will take the `db2id` structure and return an access token. In the event of an error, the routine will print the error message and return `None`. Note that the API library is imbedded in the routine so that if the API changes, the code must be updated."
   ]
  },
  {
   "cell_type": "code",
   "execution_count": null,
   "metadata": {
    "extensions": {
     "jupyter_dashboards": {
      "version": 1,
      "views": {
       "grid_default": {
        "hidden": true
       },
       "report_default": {}
      }
     }
    }
   },
   "outputs": [],
   "source": [
    "def get_token(db2id):\n",
    "    \n",
    "    import requests\n",
    "    \n",
    "    # Set up structures required for the RESTful call\n",
    "    api = '/dbapi/v4'\n",
    "    service = \"/auth/tokens\"\n",
    "    host = db2id['https_url'] + api\n",
    "    userinfo = {\n",
    "        \"userid\" : db2id['username'],\n",
    "        \"password\" : db2id['password']\n",
    "    }\n",
    "    \n",
    "    # Call the RESTful service\n",
    "    try:\n",
    "        r = requests.post(host + service, json=userinfo)\n",
    "    except Exception as err:\n",
    "        print(\"RESTful call failed. Detailed information follows.\")\n",
    "        print(err)\n",
    "        return None\n",
    "    \n",
    "    # Check for Invalid credentials\n",
    "    if (r.status_code == 401): # There was an error with the authentication\n",
    "        print(\"RESTful called failed.\")\n",
    "        message = r.json()['message']\n",
    "        print(message)\n",
    "        return None\n",
    "    \n",
    "    # Check for anything other than 200/401\n",
    "    if (r.status_code != 200): # Some other failure\n",
    "        print(\"RESTful called failed. Detailed information follows.\")\n",
    "        print(r.json())\n",
    "        return None\n",
    "    \n",
    "    # Retrieve the access token\n",
    "    try:\n",
    "        access_token = r.json()['token']\n",
    "    except:\n",
    "        print(\"RESTful call did not return an access token.\")\n",
    "        print(r.json())\n",
    "        return None\n",
    "    \n",
    "    return access_token"
   ]
  },
  {
   "cell_type": "markdown",
   "metadata": {
    "extensions": {
     "jupyter_dashboards": {
      "version": 1,
      "views": {
       "grid_default": {
        "col": 0,
        "height": 4,
        "hidden": true,
        "row": 29,
        "width": 12
       },
       "report_default": {}
      }
     }
    }
   },
   "source": [
    "From a convenience perspective, we can add the access token to the Db2 credentials that we have. This way we only need to pass the Db2id to other routines rather than having the access token and the Db2id."
   ]
  },
  {
   "cell_type": "code",
   "execution_count": null,
   "metadata": {
    "extensions": {
     "jupyter_dashboards": {
      "version": 1,
      "views": {
       "grid_default": {
        "hidden": true
       },
       "report_default": {}
      }
     }
    }
   },
   "outputs": [],
   "source": [
    "db2id['access_token'] = get_token(db2id)"
   ]
  },
  {
   "cell_type": "markdown",
   "metadata": {
    "extensions": {
     "jupyter_dashboards": {
      "version": 1,
      "views": {
       "grid_default": {
        "col": 0,
        "height": 29,
        "hidden": true,
        "row": 24,
        "width": 12
       },
       "report_default": {}
      }
     }
    }
   },
   "source": [
    "### Executing SQL Statements\n",
    "There are two steps required to access data from Db2 on Cloud. The first RESTful call will post the SQL statements to Db2 on Cloud to be executed. It is possible to run multiple statements at once, but for the purposes of this lab we will only submit one statement at a time. \n",
    "\n",
    "The structure of the SQL request is:\n",
    "```json\n",
    "{\n",
    "    \"commands\" : \"sql\",\n",
    "    \"limit\" : x,\n",
    "    \"separator\" : \";\",\n",
    "    \"stop_on_error\" : \"yes\"\n",
    "}\n",
    "\n",
    "```\n",
    "The parameters are set as follows:\n",
    "\n",
    "* commands - The SQL script to be executed (could be multiple statements).\n",
    "* limit - Maximum number of rows that will be fetched for each result set.\n",
    "* separator - SQL statement terminator. A character that is used to mark the end of a SQL statement when the provided SQL script contains multiple statements.\n",
    "* stop_on_error - If 'yes', the job stops executing at the first statement that returns an error. If 'no', the job continues executing if one or more statements returns an error.\n",
    "\n",
    "The service that is called to execute SQL statements is `/sql_jobs`. The RESTful post request has following format:\n",
    "```\n",
    "request.post(host + service, headers=authtoken, json=sql)\n",
    "```\n",
    "The `headers=authtoken` contains the authentication token that was retrieved in the first step and `json=sql` refers to the SQL statement and parameters required to execute it.\n",
    "\n",
    "The value that is returned from the service is:\n",
    "```json\n",
    "{\n",
    "  \"id\": \"STRING\",\n",
    "  \"commands_count\": \"INTEGER\",\n",
    "  \"limit\": \"INTEGER\"\n",
    "}\n",
    "```\n",
    "The important piece of information is the `id` field which we need to track the execution of the SQL command(s). The first step that we need to take is to create the authentication header. The header has the format:\n",
    "```json\n",
    "{'Authorization': \"Bearer \" + token, 'X-DB-Profile': profile_name}\n",
    "```\n",
    "The format may look strange but this is the standard for passing tokens between a client and server. The `profile_name` is defined as part of the Db2 Console, which in this case just translates to the database name.\n",
    "\n",
    "The next statement will create the authentication header."
   ]
  },
  {
   "cell_type": "code",
   "execution_count": null,
   "metadata": {
    "extensions": {
     "jupyter_dashboards": {
      "version": 1,
      "views": {
       "grid_default": {
        "hidden": true
       },
       "report_default": {}
      }
     }
    }
   },
   "outputs": [],
   "source": [
    "auth_header = {\n",
    "    \"Authorization\" : \"Bearer \" + db2id['access_token'], 'X-DB-Profile': db2id['db']\n",
    "}"
   ]
  },
  {
   "cell_type": "markdown",
   "metadata": {
    "extensions": {
     "jupyter_dashboards": {
      "version": 1,
      "views": {
       "grid_default": {
        "col": 0,
        "height": 4,
        "hidden": true,
        "row": 10,
        "width": 4
       },
       "report_default": {}
      }
     }
    }
   },
   "source": [
    "Now we can create an SQL command with the associated parameters."
   ]
  },
  {
   "cell_type": "code",
   "execution_count": null,
   "metadata": {
    "extensions": {
     "jupyter_dashboards": {
      "version": 1,
      "views": {
       "grid_default": {
        "hidden": true
       },
       "report_default": {}
      }
     }
    }
   },
   "outputs": [],
   "source": [
    "sql_command = {\n",
    "    \"commands\" : \"SELECT COUNT(*) FROM EMPLOYEE\",\n",
    "    \"limit\" : 1000,\n",
    "    \"separator\" : \";\",\n",
    "    \"stop_on_error\" : \"yes\"\n",
    "}"
   ]
  },
  {
   "cell_type": "markdown",
   "metadata": {
    "extensions": {
     "jupyter_dashboards": {
      "version": 1,
      "views": {
       "grid_default": {
        "col": 0,
        "height": 4,
        "hidden": true,
        "row": 10,
        "width": 4
       },
       "report_default": {}
      }
     }
    }
   },
   "source": [
    "At this point we have enough information to request that the SQL be executed for us. We need to supply the authentication token and the SQL request."
   ]
  },
  {
   "cell_type": "code",
   "execution_count": null,
   "metadata": {
    "extensions": {
     "jupyter_dashboards": {
      "version": 1,
      "views": {
       "grid_default": {
        "hidden": true
       },
       "report_default": {}
      }
     }
    }
   },
   "outputs": [],
   "source": [
    "service = \"/sql_jobs\"\n",
    "r = requests.post(host + service, headers=auth_header, json=sql_command)"
   ]
  },
  {
   "cell_type": "code",
   "execution_count": null,
   "metadata": {},
   "outputs": [],
   "source": [
    "r.json()"
   ]
  },
  {
   "cell_type": "code",
   "execution_count": null,
   "metadata": {},
   "outputs": [],
   "source": [
    "sql_command"
   ]
  },
  {
   "cell_type": "markdown",
   "metadata": {
    "extensions": {
     "jupyter_dashboards": {
      "version": 1,
      "views": {
       "grid_default": {
        "col": 8,
        "height": 4,
        "hidden": true,
        "row": 17,
        "width": 4
       },
       "report_default": {}
      }
     }
    }
   },
   "source": [
    "We will check the return code (201) and if it is okay we will display the json results that are returned."
   ]
  },
  {
   "cell_type": "code",
   "execution_count": null,
   "metadata": {
    "extensions": {
     "jupyter_dashboards": {
      "version": 1,
      "views": {
       "grid_default": {
        "col": 0,
        "height": 4,
        "hidden": true,
        "row": 10,
        "width": 4
       },
       "report_default": {}
      }
     }
    }
   },
   "outputs": [],
   "source": [
    "if r.status_code == 201:\n",
    "    print(r.json())\n",
    "else:\n",
    "    print(\"Something went wrong with the call!\")"
   ]
  },
  {
   "cell_type": "markdown",
   "metadata": {
    "extensions": {
     "jupyter_dashboards": {
      "version": 1,
      "views": {
       "grid_default": {
        "col": 8,
        "height": 4,
        "hidden": true,
        "row": 17,
        "width": 4
       },
       "report_default": {}
      }
     }
    }
   },
   "source": [
    "The `id` field is what we need to keep track of. The `id` is used to retrieve the answer set(s) that are associated with the SQL call. The value will be saved into a Python variable for future use."
   ]
  },
  {
   "cell_type": "code",
   "execution_count": null,
   "metadata": {
    "extensions": {
     "jupyter_dashboards": {
      "version": 1,
      "views": {
       "grid_default": {
        "hidden": true
       },
       "report_default": {}
      }
     }
    }
   },
   "outputs": [],
   "source": [
    "jobid = r.json()['id']"
   ]
  },
  {
   "cell_type": "markdown",
   "metadata": {
    "extensions": {
     "jupyter_dashboards": {
      "version": 1,
      "views": {
       "grid_default": {
        "col": 0,
        "height": 26,
        "hidden": true,
        "row": 24,
        "width": 12
       },
       "report_default": {}
      }
     }
    }
   },
   "source": [
    "### Retrieving an Answer Set\n",
    "Now that the SQL statement has been sent off for execution, we must request the results. The RESTful API is exactly the same as requesting the SQL to be run, but you need to add the job id to the end of the service. Instead of using a `POST` request we use `GET`. The format of the command is:\n",
    "```\n",
    "request.get(host + service + \"/\" + jobid, headers=authtoken)\n",
    "```\n",
    "When the call is successful, the result contains the following information:\n",
    "```json\n",
    "{\n",
    "  \"id\": \"STRING\",\n",
    "  \"status\": \"STRING\",\n",
    "  \"results\": {\n",
    "    \"command\": \"STRING\",\n",
    "    \"columns\": \"ARRAY\",\n",
    "    \"rows\": \"ARRAY\",\n",
    "    \"rows_count\": \"INTEGER\",\n",
    "    \"limit\": \"INTEGER\",\n",
    "    \"last_inserted\": \"INTEGER\",\n",
    "    \"rows_affected\": \"INTEGER\",\n",
    "    \"runtime_seconds\": \"DOUBLE\",\n",
    "    \"error\": \"STRING\"\n",
    "  }\n",
    "}\n",
    "```\n",
    "The `status` field contains either `completed`,`running`, or `failed`. It is possible that you only get an intermediate result set (perhaps because the answer set is still being gathered) so `running` will be returned. When the status is `running` you may already have some data in the `results` field. You must retrieve this data before issuing another request. The data that is returned is not cumulative which means any results that are returned in the RESTful call are lost on the next call. A general strategy would be to write code similar to:\n",
    "```\n",
    "r = restful.get(...)\n",
    "if (r.status == \"failed\") leave...\n",
    "rows = get rows from r\n",
    "while r.status == \"running\"\n",
    "    r = restful.get(...)\n",
    "    rows = get rows from r\n",
    "```\n",
    "Since we only requested a count of rows, the following code should be successful (200)."
   ]
  },
  {
   "cell_type": "code",
   "execution_count": null,
   "metadata": {
    "extensions": {
     "jupyter_dashboards": {
      "version": 1,
      "views": {
       "grid_default": {
        "col": 0,
        "height": 5,
        "hidden": true,
        "row": 10,
        "width": 4
       },
       "report_default": {}
      }
     }
    }
   },
   "outputs": [],
   "source": [
    "r = requests.get(host + service + \"/\" + jobid,headers=auth_header)\n",
    "if r.status_code == 200:\n",
    "    print(r.json())\n",
    "else:\n",
    "    print(\"Something went wrong with the call!\")"
   ]
  },
  {
   "cell_type": "markdown",
   "metadata": {
    "extensions": {
     "jupyter_dashboards": {
      "version": 1,
      "views": {
       "grid_default": {
        "col": 8,
        "height": 4,
        "hidden": true,
        "row": 17,
        "width": 4
       },
       "report_default": {}
      }
     }
    }
   },
   "source": [
    "The column names and rows of the result set are found in the 'results' field and the rows are represented as an array of values. To extract the column names use the following syntax."
   ]
  },
  {
   "cell_type": "code",
   "execution_count": null,
   "metadata": {
    "extensions": {
     "jupyter_dashboards": {
      "version": 1,
      "views": {
       "grid_default": {
        "col": 8,
        "height": 4,
        "hidden": true,
        "row": 17,
        "width": 4
       },
       "report_default": {}
      }
     }
    }
   },
   "outputs": [],
   "source": [
    "results = r.json()['results']\n",
    "columns = results[0]['columns']\n",
    "rows = results[0]['rows']\n",
    "print('Column Names')\n",
    "print(columns)\n",
    "print('Rows')\n",
    "print(rows)"
   ]
  },
  {
   "cell_type": "markdown",
   "metadata": {
    "extensions": {
     "jupyter_dashboards": {
      "version": 1,
      "views": {
       "grid_default": {
        "col": 0,
        "height": 4,
        "hidden": true,
        "row": 24,
        "width": 12
       },
       "report_default": {}
      }
     }
    }
   },
   "source": [
    "The column names are in a single-dimensional array, while the rows are a 2-dimensional array. If you are using pandas dataframes to manipulate data, you can convert the array values using the following syntax. The last statement converts the character columns into numeric values. The RESTful call returns the answer set as strings so this step makes it easier to plot data."
   ]
  },
  {
   "cell_type": "code",
   "execution_count": null,
   "metadata": {
    "extensions": {
     "jupyter_dashboards": {
      "version": 1,
      "views": {
       "grid_default": {
        "hidden": true
       },
       "report_default": {}
      }
     }
    }
   },
   "outputs": [],
   "source": [
    "import pandas\n",
    "df = pandas.DataFrame(data=rows,columns=columns)\n",
    "cols = df.columns\n",
    "df[cols] = df[cols].apply(pandas.to_numeric, errors='ignore')"
   ]
  },
  {
   "cell_type": "markdown",
   "metadata": {
    "extensions": {
     "jupyter_dashboards": {
      "version": 1,
      "views": {
       "grid_default": {
        "col": 0,
        "height": 4,
        "hidden": true,
        "row": 10,
        "width": 4
       },
       "report_default": {}
      }
     }
    }
   },
   "source": [
    "Now that we have the data in dataframe format, just referring to the variable will print it in a nicer format."
   ]
  },
  {
   "cell_type": "code",
   "execution_count": null,
   "metadata": {
    "extensions": {
     "jupyter_dashboards": {
      "version": 1,
      "views": {
       "grid_default": {
        "col": 8,
        "height": 4,
        "hidden": true,
        "row": 17,
        "width": 4
       },
       "report_default": {}
      }
     }
    }
   },
   "outputs": [],
   "source": [
    "df"
   ]
  },
  {
   "cell_type": "markdown",
   "metadata": {
    "extensions": {
     "jupyter_dashboards": {
      "version": 1,
      "views": {
       "grid_default": {
        "col": 0,
        "height": 4,
        "hidden": true,
        "row": 10,
        "width": 4
       },
       "report_default": {}
      }
     }
    }
   },
   "source": [
    "For a more sophisticated sample, we will request all of the table names in the SYSCAT.TABLES table."
   ]
  },
  {
   "cell_type": "code",
   "execution_count": null,
   "metadata": {
    "extensions": {
     "jupyter_dashboards": {
      "version": 1,
      "views": {
       "grid_default": {
        "col": 4,
        "height": 6,
        "hidden": true,
        "row": 51,
        "width": 4
       },
       "report_default": {}
      }
     }
    }
   },
   "outputs": [],
   "source": [
    "sql = 'select tabname, card, npages, fpages from syscat.tables fetch first 10 rows only'\n",
    "sql_command = {\n",
    "    \"commands\" : sql,\n",
    "    \"limit\" : 1000,\n",
    "    \"separator\" : \";\",\n",
    "    \"stop_on_error\" : \"yes\"\n",
    "}\n",
    "service = \"/sql_jobs\"\n",
    "r = requests.post(host + service, headers=auth_header, json=sql_command)"
   ]
  },
  {
   "cell_type": "markdown",
   "metadata": {
    "extensions": {
     "jupyter_dashboards": {
      "version": 1,
      "views": {
       "grid_default": {
        "col": 0,
        "height": 4,
        "hidden": true,
        "row": 29,
        "width": 12
       },
       "report_default": {}
      }
     }
    }
   },
   "source": [
    "Once the request is done we can check the status code and the retrieve the data. One thing to be aware of is that if the answer set is not available immediately, you still get a successful return code (200), but the return result will be empty and the status will be set to `running`. "
   ]
  },
  {
   "cell_type": "code",
   "execution_count": null,
   "metadata": {
    "extensions": {
     "jupyter_dashboards": {
      "version": 1,
      "views": {
       "grid_default": {
        "hidden": true
       },
       "report_default": {}
      }
     }
    }
   },
   "outputs": [],
   "source": [
    "if (r.status_code == 201):\n",
    "    jobid = r.json()['id']\n",
    "    r = requests.get(host + service + \"/\" + jobid,headers=auth_header)\n",
    "    if (r.status_code == 200):\n",
    "        results = r.json()['results']\n",
    "        columns = results[0]['columns']\n",
    "        rows = results[0]['rows']\n",
    "        df = pandas.DataFrame(data=rows,columns=columns)\n",
    "        cols = df.columns\n",
    "        df[cols] = df[cols].apply(pandas.to_numeric, errors='ignore')\n",
    "        display(df)\n",
    "    else:\n",
    "        print(\"Things didn't work out\")\n",
    "else:\n",
    "    print(\"Error on first POST request\")"
   ]
  },
  {
   "cell_type": "markdown",
   "metadata": {
    "extensions": {
     "jupyter_dashboards": {
      "version": 1,
      "views": {
       "grid_default": {
        "col": 0,
        "height": 9,
        "hidden": true,
        "row": 24,
        "width": 12
       },
       "report_default": {}
      }
     }
    }
   },
   "source": [
    "### Simplifying Data Retrieval\n",
    "To make the process of getting an answer back easier, the following code will take all of the previous steps and encapsulate them into a single call. The function has the following format:\n",
    "```\n",
    "restSQL(db2id,sql)\n",
    "```\n",
    "The function will return a pandas dataframe as a result set. The parameters are:\n",
    "* db2id - The id information from the Db2 Cloud service which includes the access_token created earlier\n",
    "* sql - The SQL to be executed (single statement only)\n",
    "\n",
    "One of the issues when using access tokens is that they expire after a certain period of time. This makes the access more secure since a token will expire in the event that it was accidentially released externally. However, this means that your queries may not work after a period of time because of an expired access token. If you do get an error with the SQL call, you will need to request a new access token with the following call:\n",
    "```python\n",
    "db2id['access_token'] = get_token(db2id)\n",
    "```\n",
    "The code in this function also checks to make sure that the SQL has completed execution. There is a possibility that the SQL will run for a long period of time so the function needs to continuously poll the server with RESTful calls until the SQL has completed."
   ]
  },
  {
   "cell_type": "code",
   "execution_count": null,
   "metadata": {
    "extensions": {
     "jupyter_dashboards": {
      "version": 1,
      "views": {
       "grid_default": {
        "hidden": true
       },
       "report_default": {
        "hidden": true
       }
      }
     }
    }
   },
   "outputs": [],
   "source": [
    "def restSQL(db2id,sql):\n",
    "    \n",
    "    import requests\n",
    "    import pandas\n",
    "    \n",
    "    api = '/dbapi/v3'\n",
    "    host = db2id[\"https_url\"] + api\n",
    "    \n",
    "    authid = {\"Authorization\" : \"Bearer \" + db2id['access_token'], 'X-DB-Profile': db2id['db']}\n",
    "    \n",
    "    # Step 1: Build the SQL query and get the Job ID\n",
    "    \n",
    "    service = \"/sql_jobs\"\n",
    "\n",
    "    request = {\n",
    "        \"commands\" : sql,\n",
    "        \"limit\" : 10000,\n",
    "        \"separator\" : \";\",\n",
    "        \"stop_on_error\" : \"yes\"\n",
    "    }\n",
    "    \n",
    "    try:\n",
    "        r = requests.post(host + service,headers=authid,json=request)\n",
    "        if (r.ok == False):\n",
    "            print(\"SQL Execution error\")\n",
    "            print(r.json())\n",
    "            return None\n",
    "        \n",
    "    except Exception as err:\n",
    "        print(\"Error attempting RESTful call\")\n",
    "        print(err)\n",
    "        return None\n",
    "    \n",
    "    jobid = r.json()['id']\n",
    "    \n",
    "    # Step 2: Wait for Answer set to complete\n",
    "    \n",
    "    service = \"/sql_jobs/\" + jobid\n",
    "    rows = None\n",
    "    while True:\n",
    "        try:\n",
    "            r = requests.get(host + service,headers=authid)\n",
    "            if (r.ok == False):\n",
    "                print(\"SQL answer set retrieval failed.\")\n",
    "                print(r.json())\n",
    "                return None\n",
    "            \n",
    "        except Exception as err:\n",
    "            print(\"Error attempting RESTful call\")\n",
    "            print(err)\n",
    "            return None\n",
    "        \n",
    "        status = r.json()['status']\n",
    "        if (status == \"failed\"):\n",
    "            print(\"SQL failed\")\n",
    "            print(r.json())\n",
    "            return None\n",
    "                \n",
    "        results = r.json()['results']\n",
    "        try:\n",
    "            columns = results[0]['columns']\n",
    "            if (rows == None):\n",
    "                rows = results[0]['rows']\n",
    "            else:\n",
    "                rows = rows + results[0]['rows']\n",
    "        except:\n",
    "            None\n",
    "            \n",
    "        if (status == 'completed'): break\n",
    "            \n",
    "    # Step 3: Create the Dataframe to return to the application\n",
    "                    \n",
    "    df = pandas.DataFrame(data=rows,columns=columns)\n",
    "    cols = df.columns\n",
    "    df[cols] = df[cols].apply(pandas.to_numeric, errors='ignore')\n",
    "    \n",
    "    return df"
   ]
  },
  {
   "cell_type": "markdown",
   "metadata": {
    "extensions": {
     "jupyter_dashboards": {
      "version": 1,
      "views": {
       "grid_default": {
        "col": 8,
        "height": 4,
        "hidden": true,
        "row": 51,
        "width": 4
       },
       "report_default": {}
      }
     }
    }
   },
   "source": [
    "Now we can execute the previous SQL example with just a simple call."
   ]
  },
  {
   "cell_type": "code",
   "execution_count": null,
   "metadata": {
    "extensions": {
     "jupyter_dashboards": {
      "version": 1,
      "views": {
       "grid_default": {
        "col": 4,
        "height": 6,
        "hidden": true,
        "row": 51,
        "width": 4
       },
       "report_default": {}
      }
     }
    }
   },
   "outputs": [],
   "source": [
    "sql = 'select tabname, card, npages, fpages from syscat.tables fetch first 10 rows only'\n",
    "restSQL(db2id,sql)"
   ]
  },
  {
   "cell_type": "markdown",
   "metadata": {
    "extensions": {
     "jupyter_dashboards": {
      "version": 1,
      "views": {
       "grid_default": {
        "col": 0,
        "height": 8,
        "hidden": true,
        "row": 44,
        "width": 12
       },
       "report_default": {
        "hidden": false
       }
      }
     }
    }
   },
   "source": [
    "### Plot Routine\n",
    "This code will produce a graph of the results from an SQL statement. This routine allows more flexibility on what is displayed on the chart, including changes the colors, the titles, and the axis names.\n",
    "\n",
    "The format of the Plot is:\n",
    "```\n",
    "plotSQL(db2id, sql \"Title of the plot\", \"X Axis Title\", \"Y Axis Title\", rotation, color palette)\n",
    "```\n",
    "If Rotation is set to True, the x axis labels will be rotated by 30 degress and place the text at a slight angle to make longer text easier to read. The color palette is either m1, m2, m3, or m4."
   ]
  },
  {
   "cell_type": "code",
   "execution_count": null,
   "metadata": {
    "extensions": {
     "jupyter_dashboards": {
      "version": 1,
      "views": {
       "grid_default": {
        "hidden": true
       },
       "report_default": {
        "hidden": true
       }
      }
     }
    }
   },
   "outputs": [],
   "source": [
    "import matplotlib.pyplot as plt\n",
    "\n",
    "m1 = ('#009926','#00994d','#009973','#009999','#007399','#004d99','#002699','#000099')\n",
    "m2 = (\"#00ff40\",\"#00ff80\",\"#00ffbf\",\"#00ffff\",\"#00bfff\",\"#0080ff\",\"#0040ff\")\n",
    "m3 = (\"#9933ff\",\"#cc33ff\",\"#ff33ff\",\"#ff33cc\",\"#ff3399\",\"#ff3366\",\"#ff3333\")\n",
    "m4 = (\"#ff00bf\",\"#ff0080\",\"#ff0040\",\"#ff0000\",\"#ff0000\",\"#ff4000\",\"#ff8000\",\"#ffbf00\",\"#ffff00\")\n",
    "\n",
    "def plotSQL(db2id, sql, title, xaxis, yaxis, rotation, colormap):\n",
    "    if (rotation == True):\n",
    "        rot = 30\n",
    "    else:\n",
    "        rot = 0\n",
    "    df = restSQL(db2id, sql)\n",
    "    if (df is None):\n",
    "        print(\"RESTful call failed\")\n",
    "        return\n",
    "    xvalues = df.columns.values[0]\n",
    "    yvalues = df.columns.values[1]\n",
    "    df.plot(kind='bar',x=xvalues,y=yvalues,color=colormap);\n",
    "    _ = plt.xlabel(\"\", fontsize=12);\n",
    "    _ = plt.ylabel(yaxis, fontsize=12);\n",
    "    _ = plt.suptitle(title, fontsize=20);\n",
    "    _ = plt.xticks(rotation=rot);\n",
    "    _ = plt.plot();"
   ]
  },
  {
   "cell_type": "markdown",
   "metadata": {
    "extensions": {
     "jupyter_dashboards": {
      "version": 1,
      "views": {
       "grid_default": {
        "col": 0,
        "height": 4,
        "hidden": true,
        "row": 25,
        "width": 4
       },
       "report_default": {}
      }
     }
    }
   },
   "source": [
    "Now execute each one of these SQL statements to get graphs and output about the status of the company."
   ]
  },
  {
   "cell_type": "markdown",
   "metadata": {
    "extensions": {
     "jupyter_dashboards": {
      "version": 1,
      "views": {
       "grid_default": {
        "col": 4,
        "height": 4,
        "hidden": true,
        "row": 8,
        "width": 4
       },
       "report_default": {
        "hidden": false
       }
      }
     }
    }
   },
   "source": [
    "### Sales by State"
   ]
  },
  {
   "cell_type": "code",
   "execution_count": null,
   "metadata": {
    "extensions": {
     "jupyter_dashboards": {
      "version": 1,
      "views": {
       "grid_default": {
        "col": 1,
        "height": 13,
        "hidden": false,
        "row": 2,
        "width": 5
       },
       "report_default": {
        "hidden": false
       }
      }
     }
    }
   },
   "outputs": [],
   "source": [
    "sqlin = \\\n",
    "'''\n",
    "WITH \n",
    "SALES(state, amount) AS\n",
    "   ( \n",
    "   SELECT STATE, SUM(PRODUCT_QTY * PRODUCT_COST) \n",
    "   from TRANSACTIONS \n",
    "   GROUP BY STATE\n",
    "   ) \n",
    "SELECT state, sum(amount) from SALES \n",
    "GROUP BY state \n",
    "ORDER BY 2 DESC FETCH FIRST 10 ROWS ONLY\n",
    "WITH UR\n",
    "'''\n",
    "plotSQL(db2id, sqlin, \n",
    "    \"Sales per State\", \n",
    "    \"State\",\n",
    "    \"Revenue\",\n",
    "    False,\n",
    "    m1)"
   ]
  },
  {
   "cell_type": "markdown",
   "metadata": {
    "extensions": {
     "jupyter_dashboards": {
      "version": 1,
      "views": {
       "grid_default": {
        "col": 4,
        "height": 4,
        "hidden": true,
        "row": 21,
        "width": 4
       },
       "report_default": {
        "hidden": false
       }
      }
     }
    }
   },
   "source": [
    "### Products Ordered"
   ]
  },
  {
   "cell_type": "code",
   "execution_count": null,
   "metadata": {
    "extensions": {
     "jupyter_dashboards": {
      "version": 1,
      "views": {
       "grid_default": {
        "col": 6,
        "height": 13,
        "hidden": false,
        "row": 2,
        "width": 5
       },
       "report_default": {
        "hidden": false
       }
      }
     }
    }
   },
   "outputs": [],
   "source": [
    "sqlin = \\\n",
    "'''\n",
    "WITH \n",
    "  SALES(product, quantity) AS ( \n",
    "      SELECT PRODUCT_NAME, PRODUCT_QTY \n",
    "      from TRANSACTIONS\n",
    "      ) \n",
    "SELECT product, sum(quantity) from SALES \n",
    "GROUP BY product\n",
    "ORDER BY 2 DESC\n",
    "FETCH FIRST 10 ROWS ONLY\n",
    "WITH UR\n",
    "'''\n",
    "plotSQL(db2id, sqlin, \n",
    "    \"Products Sold\", \n",
    "    \"Product\",\n",
    "    \"Quantity\",\n",
    "    True,\n",
    "    m2)"
   ]
  },
  {
   "cell_type": "markdown",
   "metadata": {
    "extensions": {
     "jupyter_dashboards": {
      "version": 1,
      "views": {
       "grid_default": {
        "col": 4,
        "height": 4,
        "hidden": true,
        "row": 24,
        "width": 4
       },
       "report_default": {
        "hidden": false
       }
      }
     }
    }
   },
   "source": [
    "### Weekly Sales with Moving Average"
   ]
  },
  {
   "cell_type": "code",
   "execution_count": null,
   "metadata": {
    "extensions": {
     "jupyter_dashboards": {
      "version": 1,
      "views": {
       "grid_default": {
        "col": 1,
        "height": 12,
        "hidden": false,
        "row": 15,
        "width": 5
       },
       "report_default": {
        "hidden": false
       }
      }
     }
    }
   },
   "outputs": [],
   "source": [
    "sqlin = \\\n",
    "\"\"\"\n",
    "WITH TOTALPROD(TX_DATE, TX_TOTAL) AS \n",
    "  (\n",
    "  SELECT WEEK(TX_DATE), SUM(PRODUCT_QTY*PRODUCT_COST) FROM TRANSACTIONS\n",
    "      WHERE YEAR(TX_DATE) = 2017 AND WEEK(TX_DATE) <= 52\n",
    "  GROUP BY WEEK(TX_DATE)\n",
    "  )\n",
    "SELECT TX_DATE, TX_TOTAL AS SALES, \n",
    "     AVG(TX_TOTAL) OVER (\n",
    "       ORDER BY TX_DATE\n",
    "     ROWS BETWEEN 8 PRECEDING AND CURRENT ROW) AS MOVING_AVG\n",
    "  FROM TOTALPROD\n",
    "  ORDER BY TX_DATE\n",
    "\"\"\"\n",
    "df = restSQL(db2id, sqlin)\n",
    "txdate= df['TX_DATE']\n",
    "sales = df['SALES']\n",
    "avg = df['MOVING_AVG']\n",
    "\n",
    "plt.xlabel(\"Week of Year\", fontsize=12);\n",
    "plt.ylabel(\"Sales\", fontsize=12);\n",
    "plt.suptitle(\"Weekly Sales and Moving Average\", fontsize=20);\n",
    "plt.plot(txdate, sales, 'r');\n",
    "plt.plot(txdate, avg, 'b');\n",
    "plt.show();"
   ]
  },
  {
   "cell_type": "markdown",
   "metadata": {
    "extensions": {
     "jupyter_dashboards": {
      "version": 1,
      "views": {
       "grid_default": {
        "col": 4,
        "height": 4,
        "hidden": true,
        "row": 24,
        "width": 4
       },
       "report_default": {
        "hidden": false
       }
      }
     }
    }
   },
   "source": [
    "### Top Products Sales by State"
   ]
  },
  {
   "cell_type": "code",
   "execution_count": null,
   "metadata": {
    "extensions": {
     "jupyter_dashboards": {
      "version": 1,
      "views": {
       "grid_default": {
        "col": 6,
        "height": 12,
        "hidden": false,
        "row": 15,
        "width": 5
       },
       "report_default": {
        "hidden": false
       }
      }
     }
    }
   },
   "outputs": [],
   "source": [
    "import seaborn as sns\n",
    "cm = sns.light_palette(\"green\", as_cmap=True)\n",
    "sqlin = \\\n",
    "\"\"\"\n",
    "WITH \n",
    "  SALES(product, state, quantity) AS ( \n",
    "      SELECT PRODUCT_NAME, STATE, SUM(PRODUCT_QTY)\n",
    "      from TRANSACTIONS\n",
    "      GROUP BY PRODUCT_NAME, STATE\n",
    "      ),\n",
    "  MAXSALES(state, total) AS (\n",
    "      SELECT STATE, MAX(quantity)\n",
    "      FROM SALES\n",
    "      GROUP BY STATE\n",
    "  )\n",
    "SELECT s.state, s.product, m.total \n",
    "  FROM SALES s, MAXSALES m\n",
    "WHERE\n",
    "  s.state = m.state and\n",
    "  s.quantity = m.total\n",
    "ORDER BY m.total desc\n",
    "FETCH FIRST 8 ROWS ONLY\n",
    "\"\"\"\n",
    "result = restSQL(db2id, sqlin)\n",
    "result.style.background_gradient(cmap=cm)"
   ]
  },
  {
   "cell_type": "markdown",
   "metadata": {
    "collapsed": true,
    "extensions": {
     "jupyter_dashboards": {
      "version": 1,
      "views": {
       "grid_default": {
        "col": 0,
        "height": 6,
        "hidden": true,
        "row": 63,
        "width": 12
       },
       "report_default": {
        "hidden": false
       }
      }
     }
    }
   },
   "source": [
    "## Summary\n",
    "Using RESTful calls to Db2 using the Db2 Data Management Console removes much of the complexity of communicating with the database. There are no drivers required, no configuration file, nor any administration required on the client that is communicating with the database. All communication is done using RESTful API calls, which are available on all browsers and all operating systems. The calls to the database are replaced with standard POST and GET requests. Enabling RESTful support to Db2 opens up the type of applications that you can write and clients that you can connect to Db2 with."
   ]
  },
  {
   "cell_type": "markdown",
   "metadata": {
    "extensions": {
     "jupyter_dashboards": {
      "version": 1,
      "views": {
       "grid_default": {
        "col": 8,
        "height": 4,
        "hidden": true,
        "row": 25,
        "width": 4
       },
       "report_default": {}
      }
     }
    }
   },
   "source": [
    "#### Credits: IBM 2019, George Baklarz [baklarz@ca.ibm.com]"
   ]
  }
 ],
 "metadata": {
  "extensions": {
   "jupyter_dashboards": {
    "activeView": "grid_default",
    "version": 1,
    "views": {
     "grid_default": {
      "cellMargin": 10,
      "defaultCellHeight": 20,
      "maxColumns": 12,
      "name": "grid",
      "type": "grid"
     },
     "report_default": {
      "name": "report",
      "type": "report"
     }
    }
   }
  },
  "kernelspec": {
   "display_name": "Python 3",
   "language": "python",
   "name": "python3"
  },
  "language_info": {
   "codemirror_mode": {
    "name": "ipython",
    "version": 3
   },
   "file_extension": ".py",
   "mimetype": "text/x-python",
   "name": "python",
   "nbconvert_exporter": "python",
   "pygments_lexer": "ipython3",
   "version": "3.7.4"
  }
 },
 "nbformat": 4,
 "nbformat_minor": 2
}
