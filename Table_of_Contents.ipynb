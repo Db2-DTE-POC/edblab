{
 "cells": [
  {
   "cell_type": "markdown",
   "metadata": {},
   "source": [
    "[![](./media/dte-header.jpg)](https://www.ibm.com/demos/collection/db2-database/)\n",
    "<a id=\"top\">"
   ]
  },
  {
   "cell_type": "markdown",
   "metadata": {},
   "source": [
    "# EDB Postgres Install, Setup and Introduction\n",
    "Welcome to this EDB Postgres lab. This Ubutu 18.04.4 environment is ready for you to install and setup EDB Postgres along with the Postgres Enterprise Manager. After you complete the installation and setup you can load data into a new EDB Postgres database and query the data through a Jupyter Python notebook."
   ]
  },
  {
   "cell_type": "markdown",
   "metadata": {},
   "source": [
    "## <div style=\"font-family: 'IBM Plex Sans';\"> \n",
    "<table style=\"float:left; width: 620px; height: 235px; border-spacing: 10px; border-collapse: separate; table-layout: fixed\"> \n",
    "    <td style=\"padding: 15px; text-align:left; vertical-align: text-top; background-color:#F7F7F7; width: 300px; height: 250px;\"> \n",
    "        <div style=\"height: 75px\"><p style=\"font-size: 24px\">An Introduction to Jupyter Notebooks</div> \n",
    "        <div style=\"height: 125px\"><p style=\"font-size: 14px\"> \n",
    "             If you are not familiar with the use of Jupyter notebooks or Python, the following notebook  \n",
    "             will guide you through their usage. \n",
    "        </div> \n",
    "        <div style=\"height: 25px\"><p style=\"font-size: 12px; text-align: right\"> \n",
    "            <img style=\"display: inline-block;\"src=\"./media/clock.png\">&nbsp;10min \n",
    "        </div> \n",
    "        <div style=\"height: 10px\"><p style=\"font-size: 12px; text-align: right\"> \n",
    "             <a href=\"http://localhost:8888/notebooks/An_Introduction_to_Jupyter_Notebooks.ipynb\"> \n",
    "                 <img style=\"display: inline-block;\"src=\"./media/arrowblue.png\"></a>             \n",
    "        </div>             \n",
    "    </td> \n",
    "    <td style=\"padding: 15px; text-align:left; vertical-align: text-top; background-color:#F7F7F7; width: 300px; height:250px\"> \n",
    "        <div style=\"height: 75px\"><p style=\"font-size: 24px\">Using Jupyter with EDB Postgres</div> \n",
    "        <div style=\"height: 125px\"><p style=\"font-size: 14px\">The following notebook provides a tutorial on basics of connecting to EDB Postgres from a Jupyter Python notebook and retrieving data for analysis. \n",
    "        </div> \n",
    "        <div style=\"height: 25px\"><p style=\"font-size: 12px; text-align: right\"> \n",
    "            <img style=\"display: inline-block;\"src=\"./media/clock.png\">&nbsp;10min \n",
    "        </div>   \n",
    "        <div style=\"height: 10px\"><p style=\"font-size: 12px; text-align: right\"> \n",
    "             <a href=\"http://localhost:8888/notebooks/Stocks.ipynb\"> \n",
    "                 <img style=\"display: inline-block;\"src=\"./media/arrowblue.png\"></a>             \n",
    "        </div>             \n",
    "    </td> \n",
    "</table> \n",
    "</div>"
   ]
  },
  {
   "cell_type": "markdown",
   "metadata": {},
   "source": [
    "#### Questions and Comments: Peter Kohlmann [kohlmann@ca.ibm.com]"
   ]
  }
 ],
 "metadata": {
  "kernelspec": {
   "display_name": "Python 3",
   "language": "python",
   "name": "python3"
  },
  "language_info": {
   "codemirror_mode": {
    "name": "ipython",
    "version": 3
   },
   "file_extension": ".py",
   "mimetype": "text/x-python",
   "name": "python",
   "nbconvert_exporter": "python",
   "pygments_lexer": "ipython3",
   "version": "3.7.6"
  }
 },
 "nbformat": 4,
 "nbformat_minor": 2
}
